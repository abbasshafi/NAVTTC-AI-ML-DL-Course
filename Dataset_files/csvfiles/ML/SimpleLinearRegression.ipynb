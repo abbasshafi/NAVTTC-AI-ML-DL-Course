{
 "cells": [
  {
   "cell_type": "code",
   "execution_count": null,
   "metadata": {},
   "outputs": [],
   "source": [
    "import pandas as pd\n",
    "import numpy as np\n",
    "import matplotlib.pyplot as plt"
   ]
  },
  {
   "cell_type": "code",
   "execution_count": null,
   "metadata": {},
   "outputs": [],
   "source": [
    "#Importing the DataSet\n",
    "dataset=pd.read_csv('D:\\AI and DL Course\\MachineLearningCourse\\csvfiles\\\\Salary_Data.csv')\n",
    "\n",
    "x=dataset.iloc[: ,:-1].values\n",
    "y=dataset.iloc[: , -1].values"
   ]
  },
  {
   "cell_type": "code",
   "execution_count": null,
   "metadata": {},
   "outputs": [],
   "source": [
    "print(x)"
   ]
  },
  {
   "cell_type": "code",
   "execution_count": null,
   "metadata": {},
   "outputs": [],
   "source": [
    "print(y)"
   ]
  },
  {
   "cell_type": "code",
   "execution_count": null,
   "metadata": {},
   "outputs": [],
   "source": [
    "#Splitting the datset into training and test\n",
    "from sklearn.model_selection import train_test_split\n",
    "X_train, X_test, y_train, y_test=train_test_split(x,y,test_size=0.15,\n",
    "                                                  random_state=2)"
   ]
  },
  {
   "cell_type": "code",
   "execution_count": null,
   "metadata": {},
   "outputs": [],
   "source": [
    "#Training the simple linear regresiion model on training data\n",
    "from sklearn.linear_model import LinearRegression\n",
    "regress=LinearRegression()\n",
    "regress.fit(X_train,y_train)"
   ]
  },
  {
   "cell_type": "code",
   "execution_count": null,
   "metadata": {},
   "outputs": [],
   "source": [
    "#To test the model we will give the testvalues to predict the salary\n",
    "y_pred=regress.predict(X_test)\n",
    "print(y_pred)"
   ]
  },
  {
   "cell_type": "code",
   "execution_count": null,
   "metadata": {},
   "outputs": [],
   "source": [
    "print(y_test)"
   ]
  },
  {
   "cell_type": "code",
   "execution_count": null,
   "metadata": {},
   "outputs": [],
   "source": [
    "#Visualizing the Training set result\n",
    "#y_test contain the real salary and y_pred contain the predicted salary\n",
    "#We will plot the red plots for real salaries and blue straight lines for predicted salaries\n",
    "plt.scatter(X_train,y_train,color='red')\n",
    "plt.plot(X_train,regress.predict(X_train),color='blue')\n",
    "plt.title(\"Salary vs Experiance  (Training Set)\")\n",
    "plt.xlabel(\"Year of Experiance\")\n",
    "plt.ylabel(\"Salary\")\n",
    "plt.show()"
   ]
  },
  {
   "cell_type": "code",
   "execution_count": null,
   "metadata": {},
   "outputs": [],
   "source": [
    "#Visulaize the Test Set Result\n",
    "plt.scatter(X_test,y_test,color='red')\n",
    "plt.plot(X_train,regress.predict(X_train),color='blue')\n",
    "plt.title(\"Salary vs Experiance  (Test Set)\")\n",
    "plt.xlabel(\"Year of Experiance\")\n",
    "plt.ylabel(\"Salary\")\n",
    "plt.show()"
   ]
  },
  {
   "cell_type": "code",
   "execution_count": null,
   "metadata": {},
   "outputs": [],
   "source": [
    "#to check whcih cofficient  your model have learned\n",
    "regress.coef_"
   ]
  },
  {
   "cell_type": "code",
   "execution_count": null,
   "metadata": {},
   "outputs": [],
   "source": [
    "#to check what your intercept is learn by your model\n",
    "regress.intercept_"
   ]
  },
  {
   "cell_type": "code",
   "execution_count": null,
   "metadata": {},
   "outputs": [],
   "source": [
    "#To check the accuracy of your model\n",
    "regress.score(X_test,y_test)"
   ]
  },
  {
   "cell_type": "code",
   "execution_count": null,
   "metadata": {},
   "outputs": [],
   "source": [
    "#To check the mean_sqr_error\n",
    "from sklearn.metrics import mean_squared_error\n",
    "print(\"Mean Sqr error is:\",mean_squared_error(y_test,y_pred))"
   ]
  },
  {
   "cell_type": "code",
   "execution_count": null,
   "metadata": {},
   "outputs": [],
   "source": []
  }
 ],
 "metadata": {
  "kernelspec": {
   "display_name": "Python 3",
   "language": "python",
   "name": "python3"
  },
  "language_info": {
   "codemirror_mode": {
    "name": "ipython",
    "version": 3
   },
   "file_extension": ".py",
   "mimetype": "text/x-python",
   "name": "python",
   "nbconvert_exporter": "python",
   "pygments_lexer": "ipython3",
   "version": "3.7.3"
  }
 },
 "nbformat": 4,
 "nbformat_minor": 2
}
