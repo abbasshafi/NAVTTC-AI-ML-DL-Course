{
 "cells": [
  {
   "cell_type": "code",
   "execution_count": 1,
   "metadata": {
    "id": "XE-pZ_w5jO8N"
   },
   "outputs": [],
   "source": [
    "from keras.datasets import mnist\n",
    "\n",
    "#Loads the mnist dataset\n",
    "(x_train,y_train),(x_test,y_test)=mnist.load_data()"
   ]
  },
  {
   "cell_type": "code",
   "execution_count": null,
   "metadata": {
    "colab": {
     "base_uri": "https://localhost:8080/"
    },
    "id": "e46_2echjVwv",
    "outputId": "e00c608d-bb1b-4ab5-8df5-9919d7c0fed4"
   },
   "outputs": [],
   "source": [
    "print(x_train.shape)"
   ]
  },
  {
   "cell_type": "code",
   "execution_count": null,
   "metadata": {
    "colab": {
     "base_uri": "https://localhost:8080/"
    },
    "id": "P8GQVBMgjgwW",
    "outputId": "83e2b689-28d3-4d21-97cf-9ef9d48d7a68"
   },
   "outputs": [],
   "source": [
    "#printing the number of Samples, Labels in datasets\n",
    "\n",
    "print('Initial shape or dimension of X_train',str(x_train.shape))\n",
    "\n",
    "print('number of samples in our training data',str(len(x_train)))\n",
    "print('number of samples in our test data',str(len(x_test)))\n",
    "\n",
    "print('number of labels in our training data',str(len(y_train)))\n",
    "print('number of labels in our test data',str(len(y_test)))"
   ]
  },
  {
   "cell_type": "code",
   "execution_count": null,
   "metadata": {
    "colab": {
     "base_uri": "https://localhost:8080/",
     "height": 185
    },
    "id": "-JQ5n5_ljjT8",
    "outputId": "8c56c942-aa1d-4b31-b55d-c7ce15f00753"
   },
   "outputs": [],
   "source": [
    "#Lets take some of images in our dataset\n",
    "import cv2\n",
    "import numpy as np\n",
    "from google.colab.patches import cv2_imshow\n",
    "for i in range(0,6):\n",
    "    random_num=np.random.randint(0,len(x_train))\n",
    "    img=x_train[random_num]\n",
    "    window_name=\"Random_Sample #\"+str(i)\n",
    "    cv2_imshow(img)\n",
    "    cv2.waitKey(0)\n",
    "    \n",
    "cv2.destroyAllWindows()"
   ]
  },
  {
   "cell_type": "code",
   "execution_count": null,
   "metadata": {
    "colab": {
     "base_uri": "https://localhost:8080/",
     "height": 208
    },
    "id": "rSscnoMdkCJ_",
    "outputId": "edf33c68-f201-49cc-8cf8-692477dbe21d"
   },
   "outputs": [],
   "source": [
    "#Lets plot it using matplotlib\n",
    "import matplotlib.pyplot as plt\n",
    "\n",
    "plt.subplot(331)\n",
    "random_num=np.random.randint(0,len(x_train))\n",
    "plt.imshow(x_train[random_num],cmap=plt.get_cmap('gray'))\n",
    "\n",
    "plt.subplot(332)\n",
    "random_num=np.random.randint(0,len(x_train))\n",
    "plt.imshow(x_train[random_num],cmap=plt.get_cmap('gray'))\n",
    "\n",
    "plt.subplot(333)\n",
    "random_num=np.random.randint(0,len(x_train))\n",
    "plt.imshow(x_train[random_num],cmap=plt.get_cmap('gray'))\n",
    "\n",
    "plt.subplot(334)\n",
    "random_num=np.random.randint(0,len(x_train))\n",
    "plt.imshow(x_train[random_num],cmap=plt.get_cmap('gray'))\n",
    "\n",
    "plt.subplot(335)\n",
    "random_num=np.random.randint(0,len(x_train))\n",
    "plt.imshow(x_train[random_num],cmap=plt.get_cmap('gray'))\n",
    "\n",
    "plt.subplot(336)\n",
    "random_num=np.random.randint(0,len(x_train))\n",
    "plt.imshow(x_train[random_num],cmap=plt.get_cmap('gray'))"
   ]
  },
  {
   "cell_type": "code",
   "execution_count": null,
   "metadata": {
    "colab": {
     "base_uri": "https://localhost:8080/"
    },
    "id": "o0nFKUg1jl0u",
    "outputId": "7b4ec5d6-33f6-42d5-9e54-dc9d3fd70037"
   },
   "outputs": [],
   "source": [
    "#Prepare our dataset for training\n",
    "img_rows=x_train[0].shape[0]\n",
    "img_cols=x_train[1].shape[0]\n",
    "\n",
    "#getting data in the right shape needed for keras\n",
    "#we need to add 4th dimension to our data \n",
    "#changing our orignal image to [60000,28,28] to [60000,28,28,1]\n",
    "x_train=x_train.reshape(x_train.shape[0],img_rows,img_cols,1)\n",
    "x_test=x_test.reshape(x_test.shape[0],img_rows,img_cols,1)\n",
    "\n",
    "#store the shape of a single image\n",
    "input_image=(img_rows,img_cols,1)\n",
    "\n",
    "#because keras expected the float32 so we change it float 32\n",
    "x_train=x_train.astype('float32')\n",
    "x_test=x_test.astype('float32')\n",
    "\n",
    "#normalize the range by changing the data from (0-255) to (0-1)\n",
    "\n",
    "x_train /=255\n",
    "\n",
    "x_test /=255\n",
    "\n",
    "print(\"X_train Shape:\", x_train.shape)\n",
    "print(x_train.shape[0],\"train Samples\")\n",
    "print(x_test.shape[0],\"test samples\")"
   ]
  },
  {
   "cell_type": "code",
   "execution_count": null,
   "metadata": {
    "colab": {
     "base_uri": "https://localhost:8080/"
    },
    "id": "PfKjJqtOj7sA",
    "outputId": "b7680065-f34f-4133-97a2-a8cf440672b3"
   },
   "outputs": [],
   "source": [
    "#onehot encoding\n",
    "from keras.utils import np_utils\n",
    "\n",
    "y_train=np_utils.to_categorical(y_train)\n",
    "y_test=np_utils.to_categorical(y_test)\n",
    "\n",
    "print(\"Number of classes:\",str(y_test.shape[1]))\n",
    "num_classes=y_test.shape[1]\n",
    "num_of_pixels=x_train.shape[1] * x_train.shape[2]\n",
    "\n",
    "print(num_of_pixels)"
   ]
  },
  {
   "cell_type": "code",
   "execution_count": null,
   "metadata": {
    "colab": {
     "base_uri": "https://localhost:8080/"
    },
    "id": "l9tsagyfkMiw",
    "outputId": "78277af5-486d-4514-cd0a-5be7785cbff5"
   },
   "outputs": [],
   "source": [
    "y_train[2]"
   ]
  },
  {
   "cell_type": "code",
   "execution_count": null,
   "metadata": {
    "colab": {
     "base_uri": "https://localhost:8080/"
    },
    "id": "fHbKfr-6kPbI",
    "outputId": "e3cce43c-3eb2-4d48-a0ed-24482a25a6a9"
   },
   "outputs": [],
   "source": [
    "#Preparing our model\n",
    "from tensorflow import keras\n",
    "import tensorflow as tf\n",
    "from keras.datasets import mnist\n",
    "from keras.models import Sequential\n",
    "from keras.layers import Dense,Dropout,Flatten\n",
    "from keras.layers import Conv2D, MaxPooling2D\n",
    "from keras import backend as K\n",
    "from keras.optimizers import gradient_descent_v2\n",
    "from tensorflow.keras.optimizers import SGD,Adam\n",
    " \n",
    "\n",
    "#create Model\n",
    "model = Sequential()\n",
    "model.add(Conv2D(32,kernel_size=(3,3),activation='relu',input_shape=input_image))\n",
    "model.add(Conv2D(64, (3, 3), activation=\"relu\"))\n",
    "model.add(MaxPooling2D(pool_size=(2,2)))\n",
    "model.add(Dropout(0.25))\n",
    "model.add(Flatten())\n",
    "model.add(Dense(128,activation=\"relu\"))\n",
    "model.add(Dropout(0.5))\n",
    "model.add(Dense(num_classes,activation=\"softmax\"))\n",
    "\n",
    "#set optimizers\n",
    "opt = tf.optimizers.SGD(learning_rate=0.01)\n",
    "\n",
    "model.compile(loss='categorical_crossentropy',optimizer=opt,metrics=['accuracy'])\n",
    "\n",
    "#opt = tf.keras.optimizers.Adam(learning_rate=0.01)\n",
    "#model.compile(loss='categorical_crossentropy', optimizer=opt)\n",
    "print(model.summary())"
   ]
  },
  {
   "cell_type": "code",
   "execution_count": null,
   "metadata": {
    "id": "6gfswf-YkW1P"
   },
   "outputs": [],
   "source": []
  }
 ],
 "metadata": {
  "accelerator": "GPU",
  "colab": {
   "collapsed_sections": [],
   "name": "Handwritten_Recog_CNN.ipynb",
   "provenance": []
  },
  "kernelspec": {
   "display_name": "Python 3",
   "language": "python",
   "name": "python3"
  },
  "language_info": {
   "codemirror_mode": {
    "name": "ipython",
    "version": 3
   },
   "file_extension": ".py",
   "mimetype": "text/x-python",
   "name": "python",
   "nbconvert_exporter": "python",
   "pygments_lexer": "ipython3",
   "version": "3.8.5"
  }
 },
 "nbformat": 4,
 "nbformat_minor": 1
}
