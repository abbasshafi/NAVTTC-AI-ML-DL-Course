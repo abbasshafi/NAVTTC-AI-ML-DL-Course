{
 "cells": [
  {
   "cell_type": "code",
   "execution_count": 1,
   "metadata": {},
   "outputs": [],
   "source": []
  },
  {
   "cell_type": "code",
   "execution_count": null,
   "metadata": {},
   "outputs": [],
   "source": [
    "import cv2\n",
    "def sketch(image):\n",
    "    imgg= cv2.cvtColor(image,cv2.COLOR_BGR2GRAY)\n",
    "    \n",
    "    imggb=cv2.GaussianBlur(imgg,(5,5),0)\n",
    "    \n",
    "    imgc=cv2.Canny(imggb,10,70)\n",
    "    \n",
    "    ret, mask= cv2.threshold(imgc,70,255,cv2.THRESH_BINARY_INV)\n",
    "    return mask\n",
    "\n",
    "cap=cv2.VideoCapture(0)\n",
    "while True:\n",
    "    ret,frame=cap.read()\n",
    "    cv2.imshow('ORIGINAL IMAGE',sketch(frame))\n",
    "    if cv2.waitKey(1)==1:\n",
    "        break\n",
    "        "
   ]
  },
  {
   "cell_type": "code",
   "execution_count": 1,
   "metadata": {},
   "outputs": [],
   "source": [
    "import cv2"
   ]
  },
  {
   "cell_type": "code",
   "execution_count": null,
   "metadata": {},
   "outputs": [],
   "source": [
    "def sketch(image):\n",
    "    imgg=cv2.cvtColor(image,cv2.COLORBGR2GRAY)\n",
    "    \n",
    "    imggb=cv2.GaussianBlur(imgg,(5,5),0)\n",
    "    \n",
    "    imgc=cv2.Canny(imggb,10,70)\n",
    "    \n",
    "    ret,mask=cv2.threshold(imgc,70,255,CV2.THRESH_BINARY_INV)\n",
    "    return mask"
   ]
  },
  {
   "cell_type": "code",
   "execution_count": null,
   "metadata": {},
   "outputs": [],
   "source": [
    "img= cv2.imread('/home/abbas/Documents/DSC_1658.JPG')\n",
    "cv2.imshow(\"Original\",img)\n",
    "cv2.waitKey(0)\n",
    "\n",
    "sobelx= cv2.Sobel(img,cv2.CV_64F, 1,0, ksize=5)\n",
    "cv2.imshow(\"SobelX\",sobelx)\n",
    "cv2.waitKey(0)\n",
    "\n",
    "sobely=cv2.Sobel(img,cv2.CV_64F,0,1,ksize=5)\n",
    "cv2.imshow(\"SobelY\",sobely)\n",
    "cv2.waitKey(0)\n",
    "\n",
    "bot=cv2.bitwise_or(sobelx,sobely)\n",
    "cv2.imshow(\"BITWISE\",bot)\n",
    "cv2.waitKey(0)\n",
    "\n",
    "lap=cv2.Laplacian(img,cv2.CV_64F)\n",
    "cv2.imshow(\"LAPLACIAN\",lap)\n",
    "cv2.waitKey(0)\n",
    "\n",
    "can=cv2.Canny(img,60,120)\n",
    "cv2.imshow(\"CANNY\",can)\n",
    "cv2.waitKey(0)\n",
    "cv2.destroyAllWindows()"
   ]
  },
  {
   "cell_type": "code",
   "execution_count": 2,
   "metadata": {},
   "outputs": [],
   "source": [
    "img=cv2.imread('/home/abbas/Documents/DSC_1658.JPG')\n",
    "# cv2.imshow(\"Original\",img)\n"
   ]
  },
  {
   "cell_type": "code",
   "execution_count": 11,
   "metadata": {},
   "outputs": [
    {
     "name": "stdout",
     "output_type": "stream",
     "text": [
      "255 193 143\n"
     ]
    }
   ],
   "source": [
    "B,G,R=img[0,0]\n",
    "print(B,G,R)"
   ]
  },
  {
   "cell_type": "code",
   "execution_count": 9,
   "metadata": {},
   "outputs": [
    {
     "data": {
      "text/plain": [
       "(3348, 2575, 3)"
      ]
     },
     "execution_count": 9,
     "metadata": {},
     "output_type": "execute_result"
    }
   ],
   "source": [
    "img.shape"
   ]
  },
  {
   "cell_type": "code",
   "execution_count": 18,
   "metadata": {},
   "outputs": [],
   "source": [
    "hsv=cv2.cvtColor(img,cv2.COLOR_BGR2HSV)\n",
    "cv2.imshow(\"HSV\", hsv)\n",
    "cv2.waitKey()\n",
    "cv2.destroyAllWindows()"
   ]
  },
  {
   "cell_type": "code",
   "execution_count": 19,
   "metadata": {},
   "outputs": [],
   "source": [
    "img=cv2.imread('/home/abbas/Documents/DSC_1658.JPG')\n"
   ]
  },
  {
   "cell_type": "code",
   "execution_count": 1,
   "metadata": {},
   "outputs": [],
   "source": [
    "import cv2\n",
    "import numpy as np\n",
    "image = cv2.imread('/home/abbas/Downloads/black.png') "
   ]
  },
  {
   "cell_type": "code",
   "execution_count": 2,
   "metadata": {},
   "outputs": [],
   "source": [
    "cv2.imshow(\"IMAGE\", image)\n",
    "cv2.waitKey()\n",
    "\n",
    "can=cv2.Canny(image,30,120)\n",
    "cv2.imshow(\"CANNY\",can)\n",
    "cv2.waitKey()\n",
    "\n",
    "contours,hierarchy=cv2.findContours(can,cv2.RETR_EXTERNAL,cv2.CHAIN_APPROX_SIMPLE)\n",
    "# cv2.imshow('Canny Edges After Contouring', can)\n",
    "\n",
    "cv2.drawContours(image,contours,-1,(0,255,0),3)\n",
    "cv2.imshow(\"CONTOURS\",image)\n",
    "\n",
    "cv2.waitKey()\n",
    "cv2.destroyAllWindows()\n"
   ]
  },
  {
   "cell_type": "code",
   "execution_count": 2,
   "metadata": {},
   "outputs": [],
   "source": [
    "img=cv2.imread('/home/abbas/Documents/DSC_1658.JPG')\n"
   ]
  },
  {
   "cell_type": "code",
   "execution_count": 3,
   "metadata": {},
   "outputs": [],
   "source": [
    "cv2.imshow(\"Original\",img)\n",
    "cv2.waitKey()\n",
    "\n",
    "can=cv2.Canny(img,30,120)\n",
    "cv2.imshow(\"CANNY\",can)\n",
    "cv2.waitKey()\n",
    "\n",
    "contours,hierarchy=cv2.findContours(can,cv2.RETR_EXTERNAL,cv2.CHAIN_APPROX_SIMPLE)\n",
    "cv2.drawContours(img,contours,-1,(0,255,0),3)\n",
    "cv2.imshow(\"CONTOURS\",img)\n",
    "\n",
    "\n",
    "cv2.waitKey()\n",
    "cv2.destroyAllWindows()"
   ]
  },
  {
   "cell_type": "code",
   "execution_count": 9,
   "metadata": {},
   "outputs": [],
   "source": [
    "contours,hierarchy=cv2.findContours(can,cv2.RETR_EXTERNAL,cv2.CHAIN_APPROX_SIMPLE)\n",
    "cv2.drawContours(img,contours,-1,(0,255,0),0)\n",
    "cv2.imshow(\"ufffufffufff\",img)\n",
    "cv2.waitKey()\n",
    "cv2.destroyAllWindows()"
   ]
  },
  {
   "cell_type": "code",
   "execution_count": 2,
   "metadata": {},
   "outputs": [],
   "source": [
    "import cv2\n",
    "import numpy as np"
   ]
  },
  {
   "cell_type": "code",
   "execution_count": 1,
   "metadata": {},
   "outputs": [],
   "source": [
    "def stetch(image):\n",
    "    img_g=cv2.Color(image,cv2.COLOR_BGR2GRAY)\n",
    "    \n",
    "    img_gb=cv2.GaussianBlur(img_g,(5,5),0)\n",
    "    \n",
    "    img_c=cv2.Canny(img_gb,10,70)\n",
    "    \n",
    "    ret,mask= cv2.threshold(img_c,70,255,cv2.THRESH_BINARY_INV)\n",
    "    return mask"
   ]
  },
  {
   "cell_type": "code",
   "execution_count": null,
   "metadata": {},
   "outputs": [],
   "source": [
    "def sketch(image):\n",
    "    img_g= cv2.Color(image,cv2.COLOR_BGR2GRAY)\n",
    "    \n",
    "    img_gb=cv2.GaussianBlur(img_g,(5,5),0)\n",
    "    \n",
    "    img_c=cv2.Canny(img_gb,10,70)\n",
    "    \n",
    "    \n",
    "    ret, mask= cv2.threshold(img_c,70,255,cv2.THRESH_BINARY_INV)\n",
    "    return mask\n",
    "\n",
    "cap= cv2.VideoCapture(0)\n",
    "\n",
    "while True:\n",
    "    ret,frame=cap.read()\n",
    "    cv2.imshow(\"hahah\",sketch(frame))\n",
    "    if cv2.waitKey(1)==1:\n",
    "        break\n",
    "        \n"
   ]
  },
  {
   "cell_type": "code",
   "execution_count": null,
   "metadata": {},
   "outputs": [],
   "source": [
    "def sketch(image):\n",
    "    imgg= cv2.Color(image,cv2.COLOR_BGR2GRAY)\n",
    "    \n",
    "    imggb= cv2.GaussianBlur(imgg,(5,5),0)\n",
    "    \n",
    "    imgc= cv2.Canny(imggb,10,70)\n",
    "    \n",
    "    \n",
    "    ret, mask= cv2.threshold(imgc,70,255,cv2.THRESH_BINARY_INV)"
   ]
  }
 ],
 "metadata": {
  "kernelspec": {
   "display_name": "Python 3",
   "language": "python",
   "name": "python3"
  },
  "language_info": {
   "codemirror_mode": {
    "name": "ipython",
    "version": 3
   },
   "file_extension": ".py",
   "mimetype": "text/x-python",
   "name": "python",
   "nbconvert_exporter": "python",
   "pygments_lexer": "ipython3",
   "version": "3.8.5"
  }
 },
 "nbformat": 4,
 "nbformat_minor": 4
}
