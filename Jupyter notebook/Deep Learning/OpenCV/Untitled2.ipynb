{
 "cells": [
  {
   "cell_type": "code",
   "execution_count": null,
   "metadata": {},
   "outputs": [],
   "source": []
  },
  {
   "cell_type": "code",
   "execution_count": 9,
   "metadata": {},
   "outputs": [],
   "source": [
    "import cv2\n",
    "import numpy as np"
   ]
  },
  {
   "cell_type": "code",
   "execution_count": 10,
   "metadata": {},
   "outputs": [
    {
     "name": "stdout",
     "output_type": "stream",
     "text": [
      "149 133 97\n",
      "(2448, 2448, 3)\n"
     ]
    }
   ],
   "source": [
    "image=cv2.imread('/home/abbas/Pictures/desktop wallpapers/6b20008b-17dd-4121-a899-bc00965b14c3.jpg')\n",
    "\n",
    "\n",
    "B,G,R =image[0,0]\n",
    "print(B,G,R )\n",
    "print(image.shape)"
   ]
  },
  {
   "cell_type": "code",
   "execution_count": 11,
   "metadata": {},
   "outputs": [
    {
     "name": "stdout",
     "output_type": "stream",
     "text": [
      "124\n",
      "(2448, 2448)\n"
     ]
    }
   ],
   "source": [
    "gimage=cv2.cvtColor(image,cv2.COLOR_BGR2GRAY)\n",
    "print(gimage[0,0])\n",
    "print(gimage.shape)"
   ]
  },
  {
   "cell_type": "code",
   "execution_count": 14,
   "metadata": {},
   "outputs": [],
   "source": [
    "hsvimg=cv2.cvtColor(image,cv2.COLOR_BGR2HSV)\n",
    "cv2.imshow(\"HSV\",hsvimg)\n",
    "cv2.waitKey()\n",
    "cv2.destroyAllWindows()\n",
    "\n",
    "\n",
    "cv2.imshow('H',hsvimg[:,:,0])\n",
    "\n",
    "cv2.waitKey()\n",
    "cv2.destroyAllWindows()\n",
    "cv2.imshow('S',hsvimg[:,:,1])\n",
    "\n",
    "cv2.waitKey()\n",
    "cv2.destroyAllWindows()\n",
    "\n",
    "cv2.imshow('V',hsvimg[:,:,2])\n",
    "\n",
    "cv2.waitKey()\n",
    "cv2.destroyAllWindows()\n"
   ]
  },
  {
   "cell_type": "code",
   "execution_count": 3,
   "metadata": {},
   "outputs": [],
   "source": [
    "vid= cv2.VideoCapture(0)\n",
    "while(True):\n",
    "    ref,frame=vid.read()\n",
    "    \n",
    "    cv2.imshow(\"video\",frame)\n",
    "    \n",
    "    if cv2.waitKey(1) & 0xFF==ord('q'):\n",
    "        break\n",
    "        \n",
    "vid.release()\n",
    "cv2.destroyAllWindows()"
   ]
  },
  {
   "cell_type": "code",
   "execution_count": 12,
   "metadata": {},
   "outputs": [],
   "source": [
    "image=cv2.imread('/home/abbas/Pictures/desktop wallpapers/6b20008b-17dd-4121-a899-bc00965b14c3.jpg')\n",
    "\n",
    "sobel_x=cv2.Sobel(image,cv2.CV_64F,1,0,ksize=5)\n",
    "sobel_y=cv2.Sobel(image,cv2.CV_64F,0,1,ksize=5)\n",
    "\n",
    "cv2.imshow(\"original\",image)\n",
    "cv2.waitKey()\n",
    "cv2.destroyAllWindows()\n",
    "\n",
    "cv2.imshow(\"x\",sobel_x)\n",
    "cv2.waitKey()\n",
    "cv2.destroyAllWindows()\n",
    "\n",
    "cv2.imshow(\"y\",sobel_y)\n",
    "cv2.waitKey()\n",
    "cv2.destroyAllWindows()\n",
    "\n",
    "lap=cv2.Laplacian(image,cv2.CV_64F)\n",
    "cv2.imshow(\"Laplacian\",lap)\n",
    "\n",
    "\n",
    "cv2.waitKey()\n",
    "cv2.destroyAllWindows()\n",
    "\n",
    "can=cv2.Canny(image,60,120)\n",
    "cv2.imshow(\"canny\",can)\n",
    "cv2.waitKey()\n",
    "cv2.destroyAllWindows()\n",
    "\n",
    "\n",
    "xy=cv2.bitwise_or(image,cv2.CV_64F)\n",
    "cv2.imshow(\"Bitwise\",xy)\n",
    "cv2.waitKey()\n",
    "cv2.destroyAllWindows()"
   ]
  }
 ],
 "metadata": {
  "kernelspec": {
   "display_name": "Python 3",
   "language": "python",
   "name": "python3"
  },
  "language_info": {
   "codemirror_mode": {
    "name": "ipython",
    "version": 3
   },
   "file_extension": ".py",
   "mimetype": "text/x-python",
   "name": "python",
   "nbconvert_exporter": "python",
   "pygments_lexer": "ipython3",
   "version": "3.8.5"
  }
 },
 "nbformat": 4,
 "nbformat_minor": 4
}
